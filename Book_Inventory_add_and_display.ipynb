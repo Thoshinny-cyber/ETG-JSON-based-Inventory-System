{
  "nbformat": 4,
  "nbformat_minor": 0,
  "metadata": {
    "colab": {
      "name": "Book Inventory add_and_display.ipynb",
      "provenance": []
    },
    "kernelspec": {
      "name": "python3",
      "display_name": "Python 3"
    },
    "language_info": {
      "name": "python"
    }
  },
  "cells": [
    {
      "cell_type": "code",
      "metadata": {
        "id": "xK-FZm9F6vRv"
      },
      "source": [
        "#Loading Records\n",
        "\n",
        "import json\n",
        "f=open(\"record.json\",'r')\n",
        "r=f.read()\n",
        "f.close\n",
        "\n",
        "rcrd=json.loads(r)"
      ],
      "execution_count": null,
      "outputs": []
    },
    {
      "cell_type": "code",
      "metadata": {
        "colab": {
          "base_uri": "https://localhost:8080/"
        },
        "id": "MszRb2Y87jHe",
        "outputId": "c0371616-718a-42f5-b34b-57209d5d87e0"
      },
      "source": [
        "rcrd"
      ],
      "execution_count": null,
      "outputs": [
        {
          "output_type": "execute_result",
          "data": {
            "text/plain": [
              "{'1001': {'author': 'Benjamin', 'name': \"Anna's Tales\", 'pr': 600, 'qn': 50},\n",
              " '1002': {'author': 'Franklin', 'name': 'Cindrella', 'pr': 800, 'qn': 50},\n",
              " '1003': {'author': 'Thomas', 'name': 'Fairy Corner', 'pr': 850, 'qn': 100},\n",
              " '1004': {'author': 'Tom Jane',\n",
              "  'name': 'Sherlock stories',\n",
              "  'pr': 1005,\n",
              "  'qn': 1000},\n",
              " '1005': {'author': 'Tomstloy',\n",
              "  'name': 'War and Peace',\n",
              "  'pr': 1100,\n",
              "  'qn': 100},\n",
              " '1006': {'author': 'Vikranth', 'name': 'Panchathanthra', 'pr': 980, 'qn': 10},\n",
              " '1007': {'author': 'Malala',\n",
              "  'name': 'My name is Malala',\n",
              "  'pr': 1500,\n",
              "  'qn': 100},\n",
              " '1008': {'author': 'Abdul Kalam', 'name': 'India 2020', 'pr': 799, 'qn': 50},\n",
              " '1009': {'author': 'Georgia',\n",
              "  'name': 'At the Dark Sight',\n",
              "  'pr': 699,\n",
              "  'qn': 60},\n",
              " '1010': {'author': 'Jack Aurthur',\n",
              "  'name': 'Candes Corner',\n",
              "  'pr': 999,\n",
              "  'qn': 60},\n",
              " '1011': {'author': 'Nivin Das', 'name': 'Super30', 'pr': 889, 'qn': 60},\n",
              " '1012': {'author': 'Cresenda Christ',\n",
              "  'name': 'An end to Begin',\n",
              "  'pr': 788,\n",
              "  'qn': 60},\n",
              " '1013': {'author': 'Shakespeare',\n",
              "  'name': 'Julius Ceaser',\n",
              "  'pr': 1250,\n",
              "  'qn': 40},\n",
              " '1014': {'author': 'Ghandi',\n",
              "  'name': 'Ceaseless Crusader',\n",
              "  'pr': 1050,\n",
              "  'qn': 30},\n",
              " '1015': {'author': 'Allen Roff', 'name': 'What if?', 'pr': 1100, 'qn': 90},\n",
              " '1016': {'author': 'Tony Evan',\n",
              "  'name': 'Survival for the fittest',\n",
              "  'pr': 1025,\n",
              "  'qn': 100},\n",
              " '1017': {'author': 'Ramnoff', 'name': '50 shades', 'pr': 899, 'qn': 80},\n",
              " '1018': {'author': 'Rowling', 'name': 'Harry Potter', 'pr': 765, 'qn': 80},\n",
              " '1019': {'author': 'Jack Joe',\n",
              "  'name': 'The Lost Island',\n",
              "  'pr': 1000,\n",
              "  'qn': 80},\n",
              " '1020': {'author': 'Christy Quill',\n",
              "  'name': 'Richie rich',\n",
              "  'pr': 1120,\n",
              "  'qn': 80},\n",
              " '1021': {'author': 'Johan R', 'name': 'Dr. Dolittle', 'pr': 1300, 'qn': 70},\n",
              " '1022': {'author': 'Rogers Stark',\n",
              "  'name': 'Final Destination',\n",
              "  'pr': 1100,\n",
              "  'qn': 70},\n",
              " '1023': {'author': 'Cathrine', 'name': 'SciFi_1', 'pr': 1115, 'qn': 40},\n",
              " '1024': {'author': 'Ardrin CR', 'name': 'Risk at 101', 'pr': 1000, 'qn': 50},\n",
              " '1025': {'author': 'Clara Froster',\n",
              "  'name': 'A day with BOOBOO',\n",
              "  'pr': 999,\n",
              "  'qn': 25},\n",
              " '1026': {'author': 'Andres Cresseda', 'name': '1939', 'pr': 990, 'qn': 30},\n",
              " '1027': {'author': 'San Zatura',\n",
              "  'name': 'Mystersious Wanda ',\n",
              "  'pr': 980,\n",
              "  'qn': 45},\n",
              " '1028': {'author': 'Baek Parker',\n",
              "  'name': 'High School 2013',\n",
              "  'pr': 945,\n",
              "  'qn': 35},\n",
              " '1029': {'author': 'Stephen Sans',\n",
              "  'name': 'Doctor Strange',\n",
              "  'pr': 1000,\n",
              "  'qn': 35},\n",
              " '1030': {'author': 'Peter Jon', 'name': 'Who Am I?', 'pr': 1005, 'qn': 50}}"
            ]
          },
          "metadata": {},
          "execution_count": 33
        }
      ]
    },
    {
      "cell_type": "code",
      "metadata": {
        "colab": {
          "base_uri": "https://localhost:8080/"
        },
        "id": "l4tDguVL9tnI",
        "outputId": "e985b0ec-a173-4535-ba01-a40922700a3b"
      },
      "source": [
        "#Adding New Books to Inventory\n",
        "\n",
        "prod_id=str(input(\"Enter Product ID: \"))\n",
        "name=str(input(\"Enter Book name: \"))\n",
        "author=str(input(\"Enter Author Name: \"))\n",
        "pr=int(input(\"Enter Book Price: \"))\n",
        "qn=int(input(\"Enter Quantity: \"))\n",
        "if prod_id in rcrd:\n",
        "  rcrd[prod_id]['qn']+=qn\n",
        "else:\n",
        "  rcrd[prod_id]={'name':name, 'author':author, 'pr':pr, 'qn':qn }\n",
        "   \n",
        "\n"
      ],
      "execution_count": null,
      "outputs": [
        {
          "name": "stdout",
          "output_type": "stream",
          "text": [
            "Enter Product ID: 1031\n",
            "Enter Book name: A Day Out\n",
            "Enter Author NameJane\n",
            "Enter Book Price: 1000\n",
            "Enter Quantity: 30\n"
          ]
        }
      ]
    },
    {
      "cell_type": "code",
      "metadata": {
        "colab": {
          "base_uri": "https://localhost:8080/"
        },
        "id": "MLAUiU9X_jXC",
        "outputId": "72500c69-b319-4338-c3f3-623a3699ad95"
      },
      "source": [
        "rcrd"
      ],
      "execution_count": null,
      "outputs": [
        {
          "output_type": "execute_result",
          "data": {
            "text/plain": [
              "{'1001': {'author': 'Benjamin', 'name': \"Anna's Tales\", 'pr': 600, 'qn': 50},\n",
              " '1002': {'author': 'Franklin', 'name': 'Cindrella', 'pr': 800, 'qn': 50},\n",
              " '1003': {'author': 'Thomas', 'name': 'Fairy Corner', 'pr': 850, 'qn': 100},\n",
              " '1004': {'author': 'Tom Jane',\n",
              "  'name': 'Sherlock stories',\n",
              "  'pr': 1005,\n",
              "  'qn': 1000},\n",
              " '1005': {'author': 'Tomstloy',\n",
              "  'name': 'War and Peace',\n",
              "  'pr': 1100,\n",
              "  'qn': 100},\n",
              " '1006': {'author': 'Vikranth', 'name': 'Panchathanthra', 'pr': 980, 'qn': 10},\n",
              " '1007': {'author': 'Malala',\n",
              "  'name': 'My name is Malala',\n",
              "  'pr': 1500,\n",
              "  'qn': 100},\n",
              " '1008': {'author': 'Abdul Kalam', 'name': 'India 2020', 'pr': 799, 'qn': 50},\n",
              " '1009': {'author': 'Georgia',\n",
              "  'name': 'At the Dark Sight',\n",
              "  'pr': 699,\n",
              "  'qn': 60},\n",
              " '1010': {'author': 'Jack Aurthur',\n",
              "  'name': 'Candes Corner',\n",
              "  'pr': 999,\n",
              "  'qn': 60},\n",
              " '1011': {'author': 'Nivin Das', 'name': 'Super30', 'pr': 889, 'qn': 60},\n",
              " '1012': {'author': 'Cresenda Christ',\n",
              "  'name': 'An end to Begin',\n",
              "  'pr': 788,\n",
              "  'qn': 60},\n",
              " '1013': {'author': 'Shakespeare',\n",
              "  'name': 'Julius Ceaser',\n",
              "  'pr': 1250,\n",
              "  'qn': 40},\n",
              " '1014': {'author': 'Ghandi',\n",
              "  'name': 'Ceaseless Crusader',\n",
              "  'pr': 1050,\n",
              "  'qn': 30},\n",
              " '1015': {'author': 'Allen Roff', 'name': 'What if?', 'pr': 1100, 'qn': 90},\n",
              " '1016': {'author': 'Tony Evan',\n",
              "  'name': 'Survival for the fittest',\n",
              "  'pr': 1025,\n",
              "  'qn': 100},\n",
              " '1017': {'author': 'Ramnoff', 'name': '50 shades', 'pr': 899, 'qn': 80},\n",
              " '1018': {'author': 'Rowling', 'name': 'Harry Potter', 'pr': 765, 'qn': 80},\n",
              " '1019': {'author': 'Jack Joe',\n",
              "  'name': 'The Lost Island',\n",
              "  'pr': 1000,\n",
              "  'qn': 80},\n",
              " '1020': {'author': 'Christy Quill',\n",
              "  'name': 'Richie rich',\n",
              "  'pr': 1120,\n",
              "  'qn': 80},\n",
              " '1021': {'author': 'Johan R', 'name': 'Dr. Dolittle', 'pr': 1300, 'qn': 70},\n",
              " '1022': {'author': 'Rogers Stark',\n",
              "  'name': 'Final Destination',\n",
              "  'pr': 1100,\n",
              "  'qn': 70},\n",
              " '1023': {'author': 'Cathrine', 'name': 'SciFi_1', 'pr': 1115, 'qn': 40},\n",
              " '1024': {'author': 'Ardrin CR', 'name': 'Risk at 101', 'pr': 1000, 'qn': 50},\n",
              " '1025': {'author': 'Clara Froster',\n",
              "  'name': 'A day with BOOBOO',\n",
              "  'pr': 999,\n",
              "  'qn': 25},\n",
              " '1026': {'author': 'Andres Cresseda', 'name': '1939', 'pr': 990, 'qn': 30},\n",
              " '1027': {'author': 'San Zatura',\n",
              "  'name': 'Mystersious Wanda ',\n",
              "  'pr': 980,\n",
              "  'qn': 45},\n",
              " '1028': {'author': 'Baek Parker',\n",
              "  'name': 'High School 2013',\n",
              "  'pr': 945,\n",
              "  'qn': 35},\n",
              " '1029': {'author': 'Stephen Sans',\n",
              "  'name': 'Doctor Strange',\n",
              "  'pr': 1000,\n",
              "  'qn': 35},\n",
              " '1030': {'author': 'Peter Jon', 'name': 'Who Am I?', 'pr': 1005, 'qn': 50},\n",
              " '1031': {'author': 'Jane', 'name': 'A Day Out', 'pr': 1000, 'qn': 30}}"
            ]
          },
          "metadata": {},
          "execution_count": 38
        }
      ]
    },
    {
      "cell_type": "code",
      "metadata": {
        "id": "bxv85QturTIk"
      },
      "source": [
        "rec = json.dumps(rcrd)\n",
        "f = open(\"record.json\",\"w\")\n",
        "f.write(rec)\n",
        "f.close()"
      ],
      "execution_count": null,
      "outputs": []
    },
    {
      "cell_type": "code",
      "metadata": {
        "colab": {
          "base_uri": "https://localhost:8080/",
          "height": 409
        },
        "id": "NBCysIburbLg",
        "outputId": "8d31e003-451a-4af5-cbcf-82d352bb670e"
      },
      "source": [
        "rec"
      ],
      "execution_count": null,
      "outputs": [
        {
          "output_type": "execute_result",
          "data": {
            "application/vnd.google.colaboratory.intrinsic+json": {
              "type": "string"
            },
            "text/plain": [
              "'{\"1001\": {\"name\": \"Anna\\'s Tales\", \"author\": \"Benjamin\", \"qn\": 50, \"pr\": 600}, \"1002\": {\"name\": \"Cindrella\", \"author\": \"Franklin\", \"pr\": 800, \"qn\": 50}, \"1003\": {\"name\": \"Fairy Corner\", \"author\": \"Thomas\", \"pr\": 850, \"qn\": 100}, \"1004\": {\"name\": \"Sherlock stories\", \"author\": \"Tom Jane\", \"pr\": 1005, \"qn\": 1000}, \"1005\": {\"name\": \"War and Peace\", \"author\": \"Tomstloy\", \"pr\": 1100, \"qn\": 100}, \"1006\": {\"name\": \"Panchathanthra\", \"author\": \"Vikranth\", \"pr\": 980, \"qn\": 10}, \"1007\": {\"name\": \"My name is Malala\", \"author\": \"Malala\", \"pr\": 1500, \"qn\": 100}, \"1008\": {\"name\": \"India 2020\", \"author\": \"Abdul Kalam\", \"pr\": 799, \"qn\": 50}, \"1009\": {\"name\": \"At the Dark Sight\", \"author\": \"Georgia\", \"pr\": 699, \"qn\": 60}, \"1010\": {\"name\": \"Candes Corner\", \"author\": \"Jack Aurthur\", \"pr\": 999, \"qn\": 60}, \"1011\": {\"name\": \"Super30\", \"author\": \"Nivin Das\", \"pr\": 889, \"qn\": 60}, \"1012\": {\"name\": \"An end to Begin\", \"author\": \"Cresenda Christ\", \"pr\": 788, \"qn\": 60}, \"1013\": {\"name\": \"Julius Ceaser\", \"author\": \"Shakespeare\", \"pr\": 1250, \"qn\": 40}, \"1014\": {\"name\": \"Ceaseless Crusader\", \"author\": \"Ghandi\", \"pr\": 1050, \"qn\": 30}, \"1015\": {\"name\": \"What if?\", \"author\": \"Allen Roff\", \"pr\": 1100, \"qn\": 90}, \"1016\": {\"name\": \"Survival for the fittest\", \"author\": \"Tony Evan\", \"pr\": 1025, \"qn\": 100}, \"1017\": {\"name\": \"50 shades\", \"author\": \"Ramnoff\", \"pr\": 899, \"qn\": 80}, \"1018\": {\"name\": \"Harry Potter\", \"author\": \"Rowling\", \"pr\": 765, \"qn\": 80}, \"1019\": {\"name\": \"The Lost Island\", \"author\": \"Jack Joe\", \"pr\": 1000, \"qn\": 80}, \"1020\": {\"name\": \"Richie rich\", \"author\": \"Christy Quill\", \"pr\": 1120, \"qn\": 80}, \"1021\": {\"name\": \"Dr. Dolittle\", \"author\": \"Johan R\", \"pr\": 1300, \"qn\": 70}, \"1022\": {\"name\": \"Final Destination\", \"author\": \"Rogers Stark\", \"pr\": 1100, \"qn\": 70}, \"1023\": {\"name\": \"SciFi_1\", \"author\": \"Cathrine\", \"pr\": 1115, \"qn\": 40}, \"1024\": {\"name\": \"Risk at 101\", \"author\": \"Ardrin CR\", \"pr\": 1000, \"qn\": 50}, \"1025\": {\"name\": \"A day with BOOBOO\", \"author\": \"Clara Froster\", \"pr\": 999, \"qn\": 25}, \"1026\": {\"name\": \"1939\", \"author\": \"Andres Cresseda\", \"pr\": 990, \"qn\": 30}, \"1027\": {\"name\": \"Mystersious Wanda \", \"author\": \"San Zatura\", \"pr\": 980, \"qn\": 45}, \"1028\": {\"name\": \"High School 2013\", \"author\": \"Baek Parker\", \"pr\": 945, \"qn\": 35}, \"1029\": {\"name\": \"Doctor Strange\", \"author\": \"Stephen Sans\", \"pr\": 1000, \"qn\": 35}, \"1030\": {\"name\": \"Who Am I?\", \"author\": \"Peter Jon\", \"pr\": 1005, \"qn\": 50}, \"1031\": {\"name\": \"A Day Out\", \"author\": \"Jane\", \"pr\": 1000, \"qn\": 30}}'"
            ]
          },
          "metadata": {},
          "execution_count": 40
        }
      ]
    }
  ]
}