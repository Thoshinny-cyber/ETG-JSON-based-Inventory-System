{
  "nbformat": 4,
  "nbformat_minor": 0,
  "metadata": {
    "colab": {
      "name": "Book_purchase.ipynb",
      "provenance": []
    },
    "kernelspec": {
      "name": "python3",
      "display_name": "Python 3"
    },
    "language_info": {
      "name": "python"
    }
  },
  "cells": [
    {
      "cell_type": "code",
      "metadata": {
        "id": "_qLi2gTz8Jqw"
      },
      "source": [
        "import json\n",
        "\n",
        "fd = open(\"record.json\",\"r\")\n",
        "txt = fd.read()\n",
        "records = json.loads(txt)"
      ],
      "execution_count": 4,
      "outputs": []
    },
    {
      "cell_type": "code",
      "metadata": {
        "colab": {
          "base_uri": "https://localhost:8080/"
        },
        "id": "ISTxvmssRecd",
        "outputId": "36ddc8bc-a4e0-4668-8e73-231d39e73746"
      },
      "source": [
        "records"
      ],
      "execution_count": 5,
      "outputs": [
        {
          "output_type": "execute_result",
          "data": {
            "text/plain": [
              "{'1001': {'author': 'Benjamin', 'name': \"Anna's Tales\", 'pr': 600, 'qn': 50},\n",
              " '1002': {'author': 'Franklin', 'name': 'Cindrella', 'pr': 800, 'qn': 50},\n",
              " '1003': {'author': 'Thomas', 'name': 'Fairy Corner', 'pr': 850, 'qn': 100},\n",
              " '1004': {'author': 'Tom Jane',\n",
              "  'name': 'Sherlock stories',\n",
              "  'pr': 1005,\n",
              "  'qn': 1000},\n",
              " '1005': {'author': 'Tomstloy',\n",
              "  'name': 'War and Peace',\n",
              "  'pr': 1100,\n",
              "  'qn': 100},\n",
              " '1006': {'author': 'Vikranth', 'name': 'Panchathanthra', 'pr': 980, 'qn': 10},\n",
              " '1007': {'author': 'Malala',\n",
              "  'name': 'My name is Malala',\n",
              "  'pr': 1500,\n",
              "  'qn': 100},\n",
              " '1008': {'author': 'Abdul Kalam', 'name': 'India 2020', 'pr': 799, 'qn': 50},\n",
              " '1009': {'author': 'Georgia',\n",
              "  'name': 'At the Dark Sight',\n",
              "  'pr': 699,\n",
              "  'qn': 60},\n",
              " '1010': {'author': 'Jack Aurthur',\n",
              "  'name': 'Candes Corner',\n",
              "  'pr': 999,\n",
              "  'qn': 60},\n",
              " '1011': {'author': 'Nivin Das', 'name': 'Super30', 'pr': 889, 'qn': 60},\n",
              " '1012': {'author': 'Cresenda Christ',\n",
              "  'name': 'An end to Begin',\n",
              "  'pr': 788,\n",
              "  'qn': 60},\n",
              " '1013': {'author': 'Shakespeare',\n",
              "  'name': 'Julius Ceaser',\n",
              "  'pr': 1250,\n",
              "  'qn': 40},\n",
              " '1014': {'author': 'Ghandi',\n",
              "  'name': 'Ceaseless Crusader',\n",
              "  'pr': 1050,\n",
              "  'qn': 30},\n",
              " '1015': {'author': 'Allen Roff', 'name': 'What if?', 'pr': 1100, 'qn': 90},\n",
              " '1016': {'author': 'Tony Evan',\n",
              "  'name': 'Survival for the fittest',\n",
              "  'pr': 1025,\n",
              "  'qn': 100},\n",
              " '1017': {'author': 'Ramnoff', 'name': '50 shades', 'pr': 899, 'qn': 80},\n",
              " '1018': {'author': 'Rowling', 'name': 'Harry Potter', 'pr': 765, 'qn': 80},\n",
              " '1019': {'author': 'Jack Joe',\n",
              "  'name': 'The Lost Island',\n",
              "  'pr': 1000,\n",
              "  'qn': 80},\n",
              " '1020': {'author': 'Christy Quill',\n",
              "  'name': 'Richie rich',\n",
              "  'pr': 1120,\n",
              "  'qn': 80},\n",
              " '1021': {'author': 'Johan R', 'name': 'Dr. Dolittle', 'pr': 1300, 'qn': 70},\n",
              " '1022': {'author': 'Rogers Stark',\n",
              "  'name': 'Final Destination',\n",
              "  'pr': 1100,\n",
              "  'qn': 70},\n",
              " '1023': {'author': 'Cathrine', 'name': 'SciFi_1', 'pr': 1115, 'qn': 40},\n",
              " '1024': {'author': 'Ardrin CR', 'name': 'Risk at 101', 'pr': 1000, 'qn': 50},\n",
              " '1025': {'author': 'Clara Froster',\n",
              "  'name': 'A day with BOOBOO',\n",
              "  'pr': 999,\n",
              "  'qn': 25},\n",
              " '1026': {'author': 'Andres Cresseda', 'name': '1939', 'pr': 990, 'qn': 30},\n",
              " '1027': {'author': 'San Zatura',\n",
              "  'name': 'Mystersious Wanda ',\n",
              "  'pr': 980,\n",
              "  'qn': 45},\n",
              " '1028': {'author': 'Baek Parker',\n",
              "  'name': 'High School 2013',\n",
              "  'pr': 945,\n",
              "  'qn': 35},\n",
              " '1029': {'author': 'Stephen Sans',\n",
              "  'name': 'Doctor Strange',\n",
              "  'pr': 1000,\n",
              "  'qn': 35},\n",
              " '1030': {'author': 'Peter Jon', 'name': 'Who Am I?', 'pr': 1005, 'qn': 50}}"
            ]
          },
          "metadata": {},
          "execution_count": 5
        }
      ]
    },
    {
      "cell_type": "code",
      "metadata": {
        "colab": {
          "base_uri": "https://localhost:8080/"
        },
        "id": "ebeZJVg_T8ZC",
        "outputId": "ba5ddad2-304f-4de7-8e95-9172ace0be24"
      },
      "source": [
        "ui_prod  = str(input(\"Enter the product_Id: \"))\n",
        "ui_quant = int(input(\"Enter the quantity: \"))\n",
        "\n",
        "\n",
        "print(\"Book: \", records[ui_prod]['name'])\n",
        "print(\"Author: \", records[ui_prod]['author'])\n",
        "print(\"Price: \", records[ui_prod]['pr'])\n",
        "print(\"Billing Amount: \", records[ui_prod]['pr'] * ui_quant)\n",
        "\n",
        "records[ui_prod]['qn'] = records[ui_prod]['qn'] - ui_quant"
      ],
      "execution_count": 15,
      "outputs": [
        {
          "output_type": "stream",
          "name": "stdout",
          "text": [
            "Enter the product_Id: 1002\n",
            "Enter the quantity: 2\n",
            "Book:  Cindrella\n",
            "Author:  Franklin\n",
            "Price:  800\n",
            "Billing Amount:  1600\n"
          ]
        }
      ]
    },
    {
      "cell_type": "code",
      "metadata": {
        "id": "Pd6nPs0SWj86"
      },
      "source": [
        "js = json.dumps(records)\n",
        "\n",
        "fd = open(\"record.json\",'w')\n",
        "fd.write(js)\n",
        "fd.close()"
      ],
      "execution_count": 20,
      "outputs": []
    },
    {
      "cell_type": "code",
      "metadata": {
        "id": "x5iUF8JSX974"
      },
      "source": [
        "sales={'id' : ui_prod, 'book':records[ui_prod]['name'], 'author': records[ui_prod]['author'], 'qn' : ui_quant, 'amount': records[ui_prod]['pr'] * ui_quant}"
      ],
      "execution_count": 21,
      "outputs": []
    },
    {
      "cell_type": "code",
      "metadata": {
        "id": "o4reUdPsZCAO"
      },
      "source": [
        "sale = json.dumps(sales)"
      ],
      "execution_count": 22,
      "outputs": []
    },
    {
      "cell_type": "code",
      "metadata": {
        "colab": {
          "base_uri": "https://localhost:8080/"
        },
        "id": "919EeIXLZR9q",
        "outputId": "23fdaa97-d2e0-43c9-e6b9-878bf0064fd4"
      },
      "source": [
        "sales"
      ],
      "execution_count": 23,
      "outputs": [
        {
          "output_type": "execute_result",
          "data": {
            "text/plain": [
              "{'amount': 1600,\n",
              " 'author': 'Franklin',\n",
              " 'book': 'Cindrella',\n",
              " 'id': '1002',\n",
              " 'qn': 2}"
            ]
          },
          "metadata": {},
          "execution_count": 23
        }
      ]
    }
  ]
}